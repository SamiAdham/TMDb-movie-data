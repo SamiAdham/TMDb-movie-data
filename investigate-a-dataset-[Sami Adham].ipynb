{
 "cells": [
  {
   "cell_type": "markdown",
   "metadata": {},
   "source": [
    "#### Sami Adham -- Data Analysis (Project 2)\n",
    "\n",
    "# Project: Investigate a Dataset of Profitability of Movies Industry over the years\n",
    "\n",
    "## Table of Contents\n",
    "<ul>\n",
    "<li><a href=\"#intro\">Introduction</a></li>\n",
    "<li><a href=\"#wrangling\">Data Wrangling</a></li>\n",
    "<li><a href=\"#eda\">Exploratory Data Analysis</a></li>\n",
    "<li><a href=\"#conclusions\">Conclusions</a></li>\n",
    "</ul>"
   ]
  },
  {
   "attachments": {},
   "cell_type": "markdown",
   "metadata": {},
   "source": [
    "<a id='intro'></a>\n",
    "## Introduction\n",
    "\n",
    " The dataset was taken from the movie database (TMDB) it is like a movies hub of all the movies over the years with all information about each move. In this analysis we will analyze the profitability of file industry over the years. and to do that we will focus on the following.\n",
    "   * Revenue\n",
    "   * Budget or Cost\n",
    "   * Profit\n",
    "   * Genre\n",
    "   * Release_Date\n",
    "   * Release_Year\n",
    "   * Title od Movies\n",
    "\n",
    "We want to understand is film industry is profitable or not.if yes, where can I suggest to invest your money. \n",
    "\n",
    "\n",
    "## <h >Questions</h>\n",
    "\n",
    "   1. Highst and lowest revenue\n",
    "   2. highst and lowest budget \n",
    "   3. highst and lowest net profit \n",
    "   4. longest and shortest runtime \n",
    "   5. What is an average runtime\n",
    "   6. What is an average profit\n",
    "   7. What is an average revenue\n",
    "   8. What is an average budget\n",
    "   9. relationship between profit and budget over the years(ROI)\n",
    "   10. Top genres over the years\n",
    "   11. Top cast over the years\n",
    "    \n",
    "   "
   ]
  },
  {
   "cell_type": "code",
   "execution_count": 1,
   "metadata": {},
   "outputs": [],
   "source": [
    "# Use this cell to set up import statements for all of the packages that you\n",
    "#   plan to use.\n",
    "\n",
    "#import all libararies that you gonna use in the project\n",
    "import pandas as pd\n",
    "import numpy as np\n",
    "from datetime import datetime\n",
    "import matplotlib.pyplot as plt\n",
    "%matplotlib inline\n",
    "import seaborn as sns\n",
    "\n",
    "#read TMDB file using pandas\n",
    "tmdb=pd.read_csv('tmdb-movies.csv')\n"
   ]
  },
  {
   "cell_type": "markdown",
   "metadata": {},
   "source": [
    "<a id='wrangling'></a>\n",
    "## Data Wrangling\n",
    "\n",
    "\n",
    "### General Properties"
   ]
  },
  {
   "cell_type": "code",
   "execution_count": 2,
   "metadata": {},
   "outputs": [
    {
     "data": {
      "text/html": [
       "<div>\n",
       "<style scoped>\n",
       "    .dataframe tbody tr th:only-of-type {\n",
       "        vertical-align: middle;\n",
       "    }\n",
       "\n",
       "    .dataframe tbody tr th {\n",
       "        vertical-align: top;\n",
       "    }\n",
       "\n",
       "    .dataframe thead th {\n",
       "        text-align: right;\n",
       "    }\n",
       "</style>\n",
       "<table border=\"1\" class=\"dataframe\">\n",
       "  <thead>\n",
       "    <tr style=\"text-align: right;\">\n",
       "      <th></th>\n",
       "      <th>id</th>\n",
       "      <th>imdb_id</th>\n",
       "      <th>popularity</th>\n",
       "      <th>budget</th>\n",
       "      <th>revenue</th>\n",
       "      <th>original_title</th>\n",
       "      <th>cast</th>\n",
       "      <th>homepage</th>\n",
       "      <th>director</th>\n",
       "      <th>tagline</th>\n",
       "      <th>...</th>\n",
       "      <th>overview</th>\n",
       "      <th>runtime</th>\n",
       "      <th>genres</th>\n",
       "      <th>production_companies</th>\n",
       "      <th>release_date</th>\n",
       "      <th>vote_count</th>\n",
       "      <th>vote_average</th>\n",
       "      <th>release_year</th>\n",
       "      <th>budget_adj</th>\n",
       "      <th>revenue_adj</th>\n",
       "    </tr>\n",
       "  </thead>\n",
       "  <tbody>\n",
       "    <tr>\n",
       "      <td>0</td>\n",
       "      <td>135397</td>\n",
       "      <td>tt0369610</td>\n",
       "      <td>32.985763</td>\n",
       "      <td>150000000</td>\n",
       "      <td>1513528810</td>\n",
       "      <td>Jurassic World</td>\n",
       "      <td>Chris Pratt|Bryce Dallas Howard|Irrfan Khan|Vi...</td>\n",
       "      <td>http://www.jurassicworld.com/</td>\n",
       "      <td>Colin Trevorrow</td>\n",
       "      <td>The park is open.</td>\n",
       "      <td>...</td>\n",
       "      <td>Twenty-two years after the events of Jurassic ...</td>\n",
       "      <td>124</td>\n",
       "      <td>Action|Adventure|Science Fiction|Thriller</td>\n",
       "      <td>Universal Studios|Amblin Entertainment|Legenda...</td>\n",
       "      <td>6/9/15</td>\n",
       "      <td>5562</td>\n",
       "      <td>6.5</td>\n",
       "      <td>2015</td>\n",
       "      <td>1.379999e+08</td>\n",
       "      <td>1.392446e+09</td>\n",
       "    </tr>\n",
       "    <tr>\n",
       "      <td>1</td>\n",
       "      <td>76341</td>\n",
       "      <td>tt1392190</td>\n",
       "      <td>28.419936</td>\n",
       "      <td>150000000</td>\n",
       "      <td>378436354</td>\n",
       "      <td>Mad Max: Fury Road</td>\n",
       "      <td>Tom Hardy|Charlize Theron|Hugh Keays-Byrne|Nic...</td>\n",
       "      <td>http://www.madmaxmovie.com/</td>\n",
       "      <td>George Miller</td>\n",
       "      <td>What a Lovely Day.</td>\n",
       "      <td>...</td>\n",
       "      <td>An apocalyptic story set in the furthest reach...</td>\n",
       "      <td>120</td>\n",
       "      <td>Action|Adventure|Science Fiction|Thriller</td>\n",
       "      <td>Village Roadshow Pictures|Kennedy Miller Produ...</td>\n",
       "      <td>5/13/15</td>\n",
       "      <td>6185</td>\n",
       "      <td>7.1</td>\n",
       "      <td>2015</td>\n",
       "      <td>1.379999e+08</td>\n",
       "      <td>3.481613e+08</td>\n",
       "    </tr>\n",
       "    <tr>\n",
       "      <td>2</td>\n",
       "      <td>262500</td>\n",
       "      <td>tt2908446</td>\n",
       "      <td>13.112507</td>\n",
       "      <td>110000000</td>\n",
       "      <td>295238201</td>\n",
       "      <td>Insurgent</td>\n",
       "      <td>Shailene Woodley|Theo James|Kate Winslet|Ansel...</td>\n",
       "      <td>http://www.thedivergentseries.movie/#insurgent</td>\n",
       "      <td>Robert Schwentke</td>\n",
       "      <td>One Choice Can Destroy You</td>\n",
       "      <td>...</td>\n",
       "      <td>Beatrice Prior must confront her inner demons ...</td>\n",
       "      <td>119</td>\n",
       "      <td>Adventure|Science Fiction|Thriller</td>\n",
       "      <td>Summit Entertainment|Mandeville Films|Red Wago...</td>\n",
       "      <td>3/18/15</td>\n",
       "      <td>2480</td>\n",
       "      <td>6.3</td>\n",
       "      <td>2015</td>\n",
       "      <td>1.012000e+08</td>\n",
       "      <td>2.716190e+08</td>\n",
       "    </tr>\n",
       "    <tr>\n",
       "      <td>3</td>\n",
       "      <td>140607</td>\n",
       "      <td>tt2488496</td>\n",
       "      <td>11.173104</td>\n",
       "      <td>200000000</td>\n",
       "      <td>2068178225</td>\n",
       "      <td>Star Wars: The Force Awakens</td>\n",
       "      <td>Harrison Ford|Mark Hamill|Carrie Fisher|Adam D...</td>\n",
       "      <td>http://www.starwars.com/films/star-wars-episod...</td>\n",
       "      <td>J.J. Abrams</td>\n",
       "      <td>Every generation has a story.</td>\n",
       "      <td>...</td>\n",
       "      <td>Thirty years after defeating the Galactic Empi...</td>\n",
       "      <td>136</td>\n",
       "      <td>Action|Adventure|Science Fiction|Fantasy</td>\n",
       "      <td>Lucasfilm|Truenorth Productions|Bad Robot</td>\n",
       "      <td>12/15/15</td>\n",
       "      <td>5292</td>\n",
       "      <td>7.5</td>\n",
       "      <td>2015</td>\n",
       "      <td>1.839999e+08</td>\n",
       "      <td>1.902723e+09</td>\n",
       "    </tr>\n",
       "    <tr>\n",
       "      <td>4</td>\n",
       "      <td>168259</td>\n",
       "      <td>tt2820852</td>\n",
       "      <td>9.335014</td>\n",
       "      <td>190000000</td>\n",
       "      <td>1506249360</td>\n",
       "      <td>Furious 7</td>\n",
       "      <td>Vin Diesel|Paul Walker|Jason Statham|Michelle ...</td>\n",
       "      <td>http://www.furious7.com/</td>\n",
       "      <td>James Wan</td>\n",
       "      <td>Vengeance Hits Home</td>\n",
       "      <td>...</td>\n",
       "      <td>Deckard Shaw seeks revenge against Dominic Tor...</td>\n",
       "      <td>137</td>\n",
       "      <td>Action|Crime|Thriller</td>\n",
       "      <td>Universal Pictures|Original Film|Media Rights ...</td>\n",
       "      <td>4/1/15</td>\n",
       "      <td>2947</td>\n",
       "      <td>7.3</td>\n",
       "      <td>2015</td>\n",
       "      <td>1.747999e+08</td>\n",
       "      <td>1.385749e+09</td>\n",
       "    </tr>\n",
       "  </tbody>\n",
       "</table>\n",
       "<p>5 rows × 21 columns</p>\n",
       "</div>"
      ],
      "text/plain": [
       "       id    imdb_id  popularity     budget     revenue  \\\n",
       "0  135397  tt0369610   32.985763  150000000  1513528810   \n",
       "1   76341  tt1392190   28.419936  150000000   378436354   \n",
       "2  262500  tt2908446   13.112507  110000000   295238201   \n",
       "3  140607  tt2488496   11.173104  200000000  2068178225   \n",
       "4  168259  tt2820852    9.335014  190000000  1506249360   \n",
       "\n",
       "                 original_title  \\\n",
       "0                Jurassic World   \n",
       "1            Mad Max: Fury Road   \n",
       "2                     Insurgent   \n",
       "3  Star Wars: The Force Awakens   \n",
       "4                     Furious 7   \n",
       "\n",
       "                                                cast  \\\n",
       "0  Chris Pratt|Bryce Dallas Howard|Irrfan Khan|Vi...   \n",
       "1  Tom Hardy|Charlize Theron|Hugh Keays-Byrne|Nic...   \n",
       "2  Shailene Woodley|Theo James|Kate Winslet|Ansel...   \n",
       "3  Harrison Ford|Mark Hamill|Carrie Fisher|Adam D...   \n",
       "4  Vin Diesel|Paul Walker|Jason Statham|Michelle ...   \n",
       "\n",
       "                                            homepage          director  \\\n",
       "0                      http://www.jurassicworld.com/   Colin Trevorrow   \n",
       "1                        http://www.madmaxmovie.com/     George Miller   \n",
       "2     http://www.thedivergentseries.movie/#insurgent  Robert Schwentke   \n",
       "3  http://www.starwars.com/films/star-wars-episod...       J.J. Abrams   \n",
       "4                           http://www.furious7.com/         James Wan   \n",
       "\n",
       "                         tagline  ...  \\\n",
       "0              The park is open.  ...   \n",
       "1             What a Lovely Day.  ...   \n",
       "2     One Choice Can Destroy You  ...   \n",
       "3  Every generation has a story.  ...   \n",
       "4            Vengeance Hits Home  ...   \n",
       "\n",
       "                                            overview runtime  \\\n",
       "0  Twenty-two years after the events of Jurassic ...     124   \n",
       "1  An apocalyptic story set in the furthest reach...     120   \n",
       "2  Beatrice Prior must confront her inner demons ...     119   \n",
       "3  Thirty years after defeating the Galactic Empi...     136   \n",
       "4  Deckard Shaw seeks revenge against Dominic Tor...     137   \n",
       "\n",
       "                                      genres  \\\n",
       "0  Action|Adventure|Science Fiction|Thriller   \n",
       "1  Action|Adventure|Science Fiction|Thriller   \n",
       "2         Adventure|Science Fiction|Thriller   \n",
       "3   Action|Adventure|Science Fiction|Fantasy   \n",
       "4                      Action|Crime|Thriller   \n",
       "\n",
       "                                production_companies release_date vote_count  \\\n",
       "0  Universal Studios|Amblin Entertainment|Legenda...       6/9/15       5562   \n",
       "1  Village Roadshow Pictures|Kennedy Miller Produ...      5/13/15       6185   \n",
       "2  Summit Entertainment|Mandeville Films|Red Wago...      3/18/15       2480   \n",
       "3          Lucasfilm|Truenorth Productions|Bad Robot     12/15/15       5292   \n",
       "4  Universal Pictures|Original Film|Media Rights ...       4/1/15       2947   \n",
       "\n",
       "   vote_average  release_year    budget_adj   revenue_adj  \n",
       "0           6.5          2015  1.379999e+08  1.392446e+09  \n",
       "1           7.1          2015  1.379999e+08  3.481613e+08  \n",
       "2           6.3          2015  1.012000e+08  2.716190e+08  \n",
       "3           7.5          2015  1.839999e+08  1.902723e+09  \n",
       "4           7.3          2015  1.747999e+08  1.385749e+09  \n",
       "\n",
       "[5 rows x 21 columns]"
      ]
     },
     "execution_count": 2,
     "metadata": {},
     "output_type": "execute_result"
    }
   ],
   "source": [
    "# Load your data and print out a few lines. Perform operations to inspect data\n",
    "#   types and look for instances of missing or possibly errant data.\n",
    "\n",
    "tmdb.head()"
   ]
  },
  {
   "cell_type": "markdown",
   "metadata": {},
   "source": [
    "### Data Cleaning "
   ]
  },
  {
   "cell_type": "code",
   "execution_count": 3,
   "metadata": {},
   "outputs": [
    {
     "name": "stdout",
     "output_type": "stream",
     "text": [
      "<class 'pandas.core.frame.DataFrame'>\n",
      "RangeIndex: 10866 entries, 0 to 10865\n",
      "Data columns (total 21 columns):\n",
      "id                      10866 non-null int64\n",
      "imdb_id                 10856 non-null object\n",
      "popularity              10866 non-null float64\n",
      "budget                  10866 non-null int64\n",
      "revenue                 10866 non-null int64\n",
      "original_title          10866 non-null object\n",
      "cast                    10790 non-null object\n",
      "homepage                2936 non-null object\n",
      "director                10822 non-null object\n",
      "tagline                 8042 non-null object\n",
      "keywords                9373 non-null object\n",
      "overview                10862 non-null object\n",
      "runtime                 10866 non-null int64\n",
      "genres                  10843 non-null object\n",
      "production_companies    9836 non-null object\n",
      "release_date            10866 non-null object\n",
      "vote_count              10866 non-null int64\n",
      "vote_average            10866 non-null float64\n",
      "release_year            10866 non-null int64\n",
      "budget_adj              10866 non-null float64\n",
      "revenue_adj             10866 non-null float64\n",
      "dtypes: float64(4), int64(6), object(11)\n",
      "memory usage: 1.7+ MB\n"
     ]
    }
   ],
   "source": [
    "#assess the data of movies\n",
    "tmdb.info()\n"
   ]
  },
  {
   "cell_type": "markdown",
   "metadata": {},
   "source": [
    "1-Removing Unused features"
   ]
  },
  {
   "cell_type": "code",
   "execution_count": 4,
   "metadata": {},
   "outputs": [
    {
     "name": "stdout",
     "output_type": "stream",
     "text": [
      "There is 11 Column in the TMDB\n"
     ]
    },
    {
     "data": {
      "text/html": [
       "<div>\n",
       "<style scoped>\n",
       "    .dataframe tbody tr th:only-of-type {\n",
       "        vertical-align: middle;\n",
       "    }\n",
       "\n",
       "    .dataframe tbody tr th {\n",
       "        vertical-align: top;\n",
       "    }\n",
       "\n",
       "    .dataframe thead th {\n",
       "        text-align: right;\n",
       "    }\n",
       "</style>\n",
       "<table border=\"1\" class=\"dataframe\">\n",
       "  <thead>\n",
       "    <tr style=\"text-align: right;\">\n",
       "      <th></th>\n",
       "      <th>budget</th>\n",
       "      <th>revenue</th>\n",
       "      <th>original_title</th>\n",
       "      <th>cast</th>\n",
       "      <th>director</th>\n",
       "      <th>tagline</th>\n",
       "      <th>overview</th>\n",
       "      <th>runtime</th>\n",
       "      <th>genres</th>\n",
       "      <th>release_date</th>\n",
       "      <th>release_year</th>\n",
       "    </tr>\n",
       "  </thead>\n",
       "  <tbody>\n",
       "    <tr>\n",
       "      <td>0</td>\n",
       "      <td>150000000</td>\n",
       "      <td>1513528810</td>\n",
       "      <td>Jurassic World</td>\n",
       "      <td>Chris Pratt|Bryce Dallas Howard|Irrfan Khan|Vi...</td>\n",
       "      <td>Colin Trevorrow</td>\n",
       "      <td>The park is open.</td>\n",
       "      <td>Twenty-two years after the events of Jurassic ...</td>\n",
       "      <td>124</td>\n",
       "      <td>Action|Adventure|Science Fiction|Thriller</td>\n",
       "      <td>6/9/15</td>\n",
       "      <td>2015</td>\n",
       "    </tr>\n",
       "    <tr>\n",
       "      <td>1</td>\n",
       "      <td>150000000</td>\n",
       "      <td>378436354</td>\n",
       "      <td>Mad Max: Fury Road</td>\n",
       "      <td>Tom Hardy|Charlize Theron|Hugh Keays-Byrne|Nic...</td>\n",
       "      <td>George Miller</td>\n",
       "      <td>What a Lovely Day.</td>\n",
       "      <td>An apocalyptic story set in the furthest reach...</td>\n",
       "      <td>120</td>\n",
       "      <td>Action|Adventure|Science Fiction|Thriller</td>\n",
       "      <td>5/13/15</td>\n",
       "      <td>2015</td>\n",
       "    </tr>\n",
       "    <tr>\n",
       "      <td>2</td>\n",
       "      <td>110000000</td>\n",
       "      <td>295238201</td>\n",
       "      <td>Insurgent</td>\n",
       "      <td>Shailene Woodley|Theo James|Kate Winslet|Ansel...</td>\n",
       "      <td>Robert Schwentke</td>\n",
       "      <td>One Choice Can Destroy You</td>\n",
       "      <td>Beatrice Prior must confront her inner demons ...</td>\n",
       "      <td>119</td>\n",
       "      <td>Adventure|Science Fiction|Thriller</td>\n",
       "      <td>3/18/15</td>\n",
       "      <td>2015</td>\n",
       "    </tr>\n",
       "    <tr>\n",
       "      <td>3</td>\n",
       "      <td>200000000</td>\n",
       "      <td>2068178225</td>\n",
       "      <td>Star Wars: The Force Awakens</td>\n",
       "      <td>Harrison Ford|Mark Hamill|Carrie Fisher|Adam D...</td>\n",
       "      <td>J.J. Abrams</td>\n",
       "      <td>Every generation has a story.</td>\n",
       "      <td>Thirty years after defeating the Galactic Empi...</td>\n",
       "      <td>136</td>\n",
       "      <td>Action|Adventure|Science Fiction|Fantasy</td>\n",
       "      <td>12/15/15</td>\n",
       "      <td>2015</td>\n",
       "    </tr>\n",
       "    <tr>\n",
       "      <td>4</td>\n",
       "      <td>190000000</td>\n",
       "      <td>1506249360</td>\n",
       "      <td>Furious 7</td>\n",
       "      <td>Vin Diesel|Paul Walker|Jason Statham|Michelle ...</td>\n",
       "      <td>James Wan</td>\n",
       "      <td>Vengeance Hits Home</td>\n",
       "      <td>Deckard Shaw seeks revenge against Dominic Tor...</td>\n",
       "      <td>137</td>\n",
       "      <td>Action|Crime|Thriller</td>\n",
       "      <td>4/1/15</td>\n",
       "      <td>2015</td>\n",
       "    </tr>\n",
       "  </tbody>\n",
       "</table>\n",
       "</div>"
      ],
      "text/plain": [
       "      budget     revenue                original_title  \\\n",
       "0  150000000  1513528810                Jurassic World   \n",
       "1  150000000   378436354            Mad Max: Fury Road   \n",
       "2  110000000   295238201                     Insurgent   \n",
       "3  200000000  2068178225  Star Wars: The Force Awakens   \n",
       "4  190000000  1506249360                     Furious 7   \n",
       "\n",
       "                                                cast          director  \\\n",
       "0  Chris Pratt|Bryce Dallas Howard|Irrfan Khan|Vi...   Colin Trevorrow   \n",
       "1  Tom Hardy|Charlize Theron|Hugh Keays-Byrne|Nic...     George Miller   \n",
       "2  Shailene Woodley|Theo James|Kate Winslet|Ansel...  Robert Schwentke   \n",
       "3  Harrison Ford|Mark Hamill|Carrie Fisher|Adam D...       J.J. Abrams   \n",
       "4  Vin Diesel|Paul Walker|Jason Statham|Michelle ...         James Wan   \n",
       "\n",
       "                         tagline  \\\n",
       "0              The park is open.   \n",
       "1             What a Lovely Day.   \n",
       "2     One Choice Can Destroy You   \n",
       "3  Every generation has a story.   \n",
       "4            Vengeance Hits Home   \n",
       "\n",
       "                                            overview  runtime  \\\n",
       "0  Twenty-two years after the events of Jurassic ...      124   \n",
       "1  An apocalyptic story set in the furthest reach...      120   \n",
       "2  Beatrice Prior must confront her inner demons ...      119   \n",
       "3  Thirty years after defeating the Galactic Empi...      136   \n",
       "4  Deckard Shaw seeks revenge against Dominic Tor...      137   \n",
       "\n",
       "                                      genres release_date  release_year  \n",
       "0  Action|Adventure|Science Fiction|Thriller       6/9/15          2015  \n",
       "1  Action|Adventure|Science Fiction|Thriller      5/13/15          2015  \n",
       "2         Adventure|Science Fiction|Thriller      3/18/15          2015  \n",
       "3   Action|Adventure|Science Fiction|Fantasy     12/15/15          2015  \n",
       "4                      Action|Crime|Thriller       4/1/15          2015  "
      ]
     },
     "execution_count": 4,
     "metadata": {},
     "output_type": "execute_result"
    }
   ],
   "source": [
    "#1-Removing Unused features\n",
    "del_column=['id', 'imdb_id', 'popularity' ,'homepage','keywords','homepage','production_companies','vote_count','vote_average','budget_adj','revenue_adj']\n",
    "\n",
    "\n",
    "tmdb=tmdb.drop(del_column,axis=1)\n",
    "print('There is {} Column in the TMDB'.format(len(tmdb.columns)))\n",
    "tmdb.head()"
   ]
  },
  {
   "cell_type": "markdown",
   "metadata": {},
   "source": [
    "2- Remove zero's and nan from data as we need it.\n",
    "There is no revenue or budget = 0"
   ]
  },
  {
   "cell_type": "code",
   "execution_count": 5,
   "metadata": {},
   "outputs": [
    {
     "name": "stdout",
     "output_type": "stream",
     "text": [
      "<class 'pandas.core.frame.DataFrame'>\n",
      "Int64Index: 3573 entries, 0 to 10848\n",
      "Data columns (total 11 columns):\n",
      "budget            3573 non-null float64\n",
      "revenue           3573 non-null float64\n",
      "original_title    3573 non-null object\n",
      "cast              3573 non-null object\n",
      "director          3573 non-null object\n",
      "tagline           3573 non-null object\n",
      "overview          3573 non-null object\n",
      "runtime           3573 non-null int64\n",
      "genres            3573 non-null object\n",
      "release_date      3573 non-null object\n",
      "release_year      3573 non-null int64\n",
      "dtypes: float64(2), int64(2), object(7)\n",
      "memory usage: 335.0+ KB\n"
     ]
    }
   ],
   "source": [
    "tmdb['budget']=tmdb['budget'].replace(0,np.NAN)\n",
    "tmdb['revenue']=tmdb['revenue'].replace(0,np.NAN)\n",
    "tmdb.dropna(inplace=True)\n",
    "tmdb.info()"
   ]
  },
  {
   "cell_type": "raw",
   "metadata": {},
   "source": [
    "3- chech duplicate and remove it if neccssary"
   ]
  },
  {
   "cell_type": "code",
   "execution_count": 6,
   "metadata": {},
   "outputs": [
    {
     "name": "stdout",
     "output_type": "stream",
     "text": [
      "There is 1 duplicated rows in the TMDB\n"
     ]
    }
   ],
   "source": [
    "#3.1- chech duplicate \n",
    "print('There is {} duplicated rows in the TMDB'.format(sum(tmdb.duplicated())))"
   ]
  },
  {
   "cell_type": "code",
   "execution_count": 7,
   "metadata": {},
   "outputs": [
    {
     "name": "stdout",
     "output_type": "stream",
     "text": [
      "There is 0 duplicated rows in the TMDB\n"
     ]
    }
   ],
   "source": [
    "#3.2  We need to remove duplicated row by using drop\n",
    "tmdb.drop_duplicates(inplace=True)\n",
    "print('There is {} duplicated rows in the TMDB'.format(sum(tmdb.duplicated())))"
   ]
  },
  {
   "cell_type": "markdown",
   "metadata": {},
   "source": [
    "4- change data type and format"
   ]
  },
  {
   "cell_type": "code",
   "execution_count": 8,
   "metadata": {},
   "outputs": [
    {
     "name": "stdout",
     "output_type": "stream",
     "text": [
      "<class 'pandas.core.frame.DataFrame'>\n",
      "Int64Index: 3572 entries, 0 to 10848\n",
      "Data columns (total 11 columns):\n",
      "budget            3572 non-null int64\n",
      "revenue           3572 non-null int64\n",
      "original_title    3572 non-null object\n",
      "cast              3572 non-null object\n",
      "director          3572 non-null object\n",
      "tagline           3572 non-null object\n",
      "overview          3572 non-null object\n",
      "runtime           3572 non-null int64\n",
      "genres            3572 non-null object\n",
      "release_date      3572 non-null datetime64[ns]\n",
      "release_year      3572 non-null int64\n",
      "dtypes: datetime64[ns](1), int64(4), object(6)\n",
      "memory usage: 334.9+ KB\n"
     ]
    }
   ],
   "source": [
    "#4- change data type and format\n",
    "tmdb['release_date']=pd.to_datetime(tmdb['release_date'])\n",
    "\n",
    "# change datat type of rev budj\n",
    "tmdb['budget']=tmdb['budget'].apply(np.int64)\n",
    "tmdb['revenue']=tmdb['revenue'].apply(np.int64)\n",
    "tmdb.info()"
   ]
  },
  {
   "cell_type": "code",
   "execution_count": 9,
   "metadata": {},
   "outputs": [
    {
     "data": {
      "text/html": [
       "<div>\n",
       "<style scoped>\n",
       "    .dataframe tbody tr th:only-of-type {\n",
       "        vertical-align: middle;\n",
       "    }\n",
       "\n",
       "    .dataframe tbody tr th {\n",
       "        vertical-align: top;\n",
       "    }\n",
       "\n",
       "    .dataframe thead th {\n",
       "        text-align: right;\n",
       "    }\n",
       "</style>\n",
       "<table border=\"1\" class=\"dataframe\">\n",
       "  <thead>\n",
       "    <tr style=\"text-align: right;\">\n",
       "      <th></th>\n",
       "      <th>budget</th>\n",
       "      <th>revenue</th>\n",
       "      <th>original_title</th>\n",
       "      <th>cast</th>\n",
       "      <th>director</th>\n",
       "      <th>tagline</th>\n",
       "      <th>overview</th>\n",
       "      <th>runtime</th>\n",
       "      <th>genres</th>\n",
       "      <th>release_date</th>\n",
       "      <th>release_year</th>\n",
       "    </tr>\n",
       "  </thead>\n",
       "  <tbody>\n",
       "    <tr>\n",
       "      <td>0</td>\n",
       "      <td>150000000</td>\n",
       "      <td>1513528810</td>\n",
       "      <td>Jurassic World</td>\n",
       "      <td>Chris Pratt|Bryce Dallas Howard|Irrfan Khan|Vi...</td>\n",
       "      <td>Colin Trevorrow</td>\n",
       "      <td>The park is open.</td>\n",
       "      <td>Twenty-two years after the events of Jurassic ...</td>\n",
       "      <td>124</td>\n",
       "      <td>Action|Adventure|Science Fiction|Thriller</td>\n",
       "      <td>2015-06-09</td>\n",
       "      <td>2015</td>\n",
       "    </tr>\n",
       "    <tr>\n",
       "      <td>1</td>\n",
       "      <td>150000000</td>\n",
       "      <td>378436354</td>\n",
       "      <td>Mad Max: Fury Road</td>\n",
       "      <td>Tom Hardy|Charlize Theron|Hugh Keays-Byrne|Nic...</td>\n",
       "      <td>George Miller</td>\n",
       "      <td>What a Lovely Day.</td>\n",
       "      <td>An apocalyptic story set in the furthest reach...</td>\n",
       "      <td>120</td>\n",
       "      <td>Action|Adventure|Science Fiction|Thriller</td>\n",
       "      <td>2015-05-13</td>\n",
       "      <td>2015</td>\n",
       "    </tr>\n",
       "    <tr>\n",
       "      <td>2</td>\n",
       "      <td>110000000</td>\n",
       "      <td>295238201</td>\n",
       "      <td>Insurgent</td>\n",
       "      <td>Shailene Woodley|Theo James|Kate Winslet|Ansel...</td>\n",
       "      <td>Robert Schwentke</td>\n",
       "      <td>One Choice Can Destroy You</td>\n",
       "      <td>Beatrice Prior must confront her inner demons ...</td>\n",
       "      <td>119</td>\n",
       "      <td>Adventure|Science Fiction|Thriller</td>\n",
       "      <td>2015-03-18</td>\n",
       "      <td>2015</td>\n",
       "    </tr>\n",
       "    <tr>\n",
       "      <td>3</td>\n",
       "      <td>200000000</td>\n",
       "      <td>2068178225</td>\n",
       "      <td>Star Wars: The Force Awakens</td>\n",
       "      <td>Harrison Ford|Mark Hamill|Carrie Fisher|Adam D...</td>\n",
       "      <td>J.J. Abrams</td>\n",
       "      <td>Every generation has a story.</td>\n",
       "      <td>Thirty years after defeating the Galactic Empi...</td>\n",
       "      <td>136</td>\n",
       "      <td>Action|Adventure|Science Fiction|Fantasy</td>\n",
       "      <td>2015-12-15</td>\n",
       "      <td>2015</td>\n",
       "    </tr>\n",
       "    <tr>\n",
       "      <td>4</td>\n",
       "      <td>190000000</td>\n",
       "      <td>1506249360</td>\n",
       "      <td>Furious 7</td>\n",
       "      <td>Vin Diesel|Paul Walker|Jason Statham|Michelle ...</td>\n",
       "      <td>James Wan</td>\n",
       "      <td>Vengeance Hits Home</td>\n",
       "      <td>Deckard Shaw seeks revenge against Dominic Tor...</td>\n",
       "      <td>137</td>\n",
       "      <td>Action|Crime|Thriller</td>\n",
       "      <td>2015-04-01</td>\n",
       "      <td>2015</td>\n",
       "    </tr>\n",
       "  </tbody>\n",
       "</table>\n",
       "</div>"
      ],
      "text/plain": [
       "      budget     revenue                original_title  \\\n",
       "0  150000000  1513528810                Jurassic World   \n",
       "1  150000000   378436354            Mad Max: Fury Road   \n",
       "2  110000000   295238201                     Insurgent   \n",
       "3  200000000  2068178225  Star Wars: The Force Awakens   \n",
       "4  190000000  1506249360                     Furious 7   \n",
       "\n",
       "                                                cast          director  \\\n",
       "0  Chris Pratt|Bryce Dallas Howard|Irrfan Khan|Vi...   Colin Trevorrow   \n",
       "1  Tom Hardy|Charlize Theron|Hugh Keays-Byrne|Nic...     George Miller   \n",
       "2  Shailene Woodley|Theo James|Kate Winslet|Ansel...  Robert Schwentke   \n",
       "3  Harrison Ford|Mark Hamill|Carrie Fisher|Adam D...       J.J. Abrams   \n",
       "4  Vin Diesel|Paul Walker|Jason Statham|Michelle ...         James Wan   \n",
       "\n",
       "                         tagline  \\\n",
       "0              The park is open.   \n",
       "1             What a Lovely Day.   \n",
       "2     One Choice Can Destroy You   \n",
       "3  Every generation has a story.   \n",
       "4            Vengeance Hits Home   \n",
       "\n",
       "                                            overview  runtime  \\\n",
       "0  Twenty-two years after the events of Jurassic ...      124   \n",
       "1  An apocalyptic story set in the furthest reach...      120   \n",
       "2  Beatrice Prior must confront her inner demons ...      119   \n",
       "3  Thirty years after defeating the Galactic Empi...      136   \n",
       "4  Deckard Shaw seeks revenge against Dominic Tor...      137   \n",
       "\n",
       "                                      genres release_date  release_year  \n",
       "0  Action|Adventure|Science Fiction|Thriller   2015-06-09          2015  \n",
       "1  Action|Adventure|Science Fiction|Thriller   2015-05-13          2015  \n",
       "2         Adventure|Science Fiction|Thriller   2015-03-18          2015  \n",
       "3   Action|Adventure|Science Fiction|Fantasy   2015-12-15          2015  \n",
       "4                      Action|Crime|Thriller   2015-04-01          2015  "
      ]
     },
     "execution_count": 9,
     "metadata": {},
     "output_type": "execute_result"
    }
   ],
   "source": [
    "tmdb.head()"
   ]
  },
  {
   "cell_type": "markdown",
   "metadata": {},
   "source": [
    "<a id='eda'></a>\n",
    "## Exploratory Data Analysis\n",
    "\n",
    "\n",
    "\n",
    "### Research Question 1 ( highst and lowest revenue)"
   ]
  },
  {
   "cell_type": "markdown",
   "metadata": {
    "collapsed": true
   },
   "source": [
    "<h4>Since we will use highest and lowest code for many columns we want to create definition"
   ]
  },
  {
   "cell_type": "code",
   "execution_count": 10,
   "metadata": {},
   "outputs": [],
   "source": [
    "def calc(coldata):\n",
    "    \n",
    "    #find the highest value index in the column\n",
    "    hindex=tmdb[coldata].idxmax()\n",
    "    lindex=tmdb[coldata].idxmin()\n",
    "    #then plug it into extraction row information [highest=pd.DataFrame()]\n",
    "    highest=pd.DataFrame(tmdb.loc[hindex])\n",
    "    lowest=pd.DataFrame(tmdb.loc[lindex])\n",
    "    output=pd.concat([highest,lowest],axis=1)\n",
    "    return output\n"
   ]
  },
  {
   "cell_type": "code",
   "execution_count": 11,
   "metadata": {},
   "outputs": [
    {
     "data": {
      "text/html": [
       "<div>\n",
       "<style scoped>\n",
       "    .dataframe tbody tr th:only-of-type {\n",
       "        vertical-align: middle;\n",
       "    }\n",
       "\n",
       "    .dataframe tbody tr th {\n",
       "        vertical-align: top;\n",
       "    }\n",
       "\n",
       "    .dataframe thead th {\n",
       "        text-align: right;\n",
       "    }\n",
       "</style>\n",
       "<table border=\"1\" class=\"dataframe\">\n",
       "  <thead>\n",
       "    <tr style=\"text-align: right;\">\n",
       "      <th></th>\n",
       "      <th>1386</th>\n",
       "      <th>8142</th>\n",
       "    </tr>\n",
       "  </thead>\n",
       "  <tbody>\n",
       "    <tr>\n",
       "      <td>budget</td>\n",
       "      <td>237000000</td>\n",
       "      <td>6000000</td>\n",
       "    </tr>\n",
       "    <tr>\n",
       "      <td>revenue</td>\n",
       "      <td>2781505847</td>\n",
       "      <td>2</td>\n",
       "    </tr>\n",
       "    <tr>\n",
       "      <td>original_title</td>\n",
       "      <td>Avatar</td>\n",
       "      <td>Mallrats</td>\n",
       "    </tr>\n",
       "    <tr>\n",
       "      <td>cast</td>\n",
       "      <td>Sam Worthington|Zoe Saldana|Sigourney Weaver|S...</td>\n",
       "      <td>Jason Lee|Jeremy London|Shannen Doherty|Claire...</td>\n",
       "    </tr>\n",
       "    <tr>\n",
       "      <td>director</td>\n",
       "      <td>James Cameron</td>\n",
       "      <td>Kevin Smith</td>\n",
       "    </tr>\n",
       "    <tr>\n",
       "      <td>tagline</td>\n",
       "      <td>Enter the World of Pandora.</td>\n",
       "      <td>They're not there to shop. They're not there t...</td>\n",
       "    </tr>\n",
       "    <tr>\n",
       "      <td>overview</td>\n",
       "      <td>In the 22nd century, a paraplegic Marine is di...</td>\n",
       "      <td>Both dumped by their girlfriends, two best fri...</td>\n",
       "    </tr>\n",
       "    <tr>\n",
       "      <td>runtime</td>\n",
       "      <td>162</td>\n",
       "      <td>94</td>\n",
       "    </tr>\n",
       "    <tr>\n",
       "      <td>genres</td>\n",
       "      <td>Action|Adventure|Fantasy|Science Fiction</td>\n",
       "      <td>Romance|Comedy</td>\n",
       "    </tr>\n",
       "    <tr>\n",
       "      <td>release_date</td>\n",
       "      <td>2009-12-10 00:00:00</td>\n",
       "      <td>1995-10-20 00:00:00</td>\n",
       "    </tr>\n",
       "    <tr>\n",
       "      <td>release_year</td>\n",
       "      <td>2009</td>\n",
       "      <td>1995</td>\n",
       "    </tr>\n",
       "  </tbody>\n",
       "</table>\n",
       "</div>"
      ],
      "text/plain": [
       "                                                             1386  \\\n",
       "budget                                                  237000000   \n",
       "revenue                                                2781505847   \n",
       "original_title                                             Avatar   \n",
       "cast            Sam Worthington|Zoe Saldana|Sigourney Weaver|S...   \n",
       "director                                            James Cameron   \n",
       "tagline                               Enter the World of Pandora.   \n",
       "overview        In the 22nd century, a paraplegic Marine is di...   \n",
       "runtime                                                       162   \n",
       "genres                   Action|Adventure|Fantasy|Science Fiction   \n",
       "release_date                                  2009-12-10 00:00:00   \n",
       "release_year                                                 2009   \n",
       "\n",
       "                                                             8142  \n",
       "budget                                                    6000000  \n",
       "revenue                                                         2  \n",
       "original_title                                           Mallrats  \n",
       "cast            Jason Lee|Jeremy London|Shannen Doherty|Claire...  \n",
       "director                                              Kevin Smith  \n",
       "tagline         They're not there to shop. They're not there t...  \n",
       "overview        Both dumped by their girlfriends, two best fri...  \n",
       "runtime                                                        94  \n",
       "genres                                             Romance|Comedy  \n",
       "release_date                                  1995-10-20 00:00:00  \n",
       "release_year                                                 1995  "
      ]
     },
     "execution_count": 11,
     "metadata": {},
     "output_type": "execute_result"
    }
   ],
   "source": [
    "calc('revenue')\n"
   ]
  },
  {
   "cell_type": "code",
   "execution_count": 12,
   "metadata": {},
   "outputs": [
    {
     "data": {
      "image/png": "[encoded data removed]",
      "text/plain": [
       "<Figure size 1440x720 with 1 Axes>"
      ]
     },
     "metadata": {
      "needs_background": "light"
     },
     "output_type": "display_data"
    }
   ],
   "source": [
    "rcount=tmdb.groupby('release_year')['revenue'].sum()\n",
    "plt.figure(figsize=(20,10))\n",
    "rcount.plot(kind='bar',color='#46C8DC')\n",
    "plt.ylabel('Revenue in 10b $',fontsize=(20))\n",
    "plt.xlabel('Release Year',fontsize=(20))\n",
    "plt.legend(fontsize=(20))\n",
    "plt.title('Revenue Growth over the years',fontsize=(30));\n"
   ]
  },
  {
   "cell_type": "markdown",
   "metadata": {},
   "source": [
    "This graph will show you the increse of revenue over the years but this not garentee that business is proftable yet.\n",
    "There is many factors can explain that increase such as currency exchange.\n",
    "so we have to see other features in dataset such as cost and profit"
   ]
  },
  {
   "cell_type": "markdown",
   "metadata": {},
   "source": [
    "### Research Question 2 ( highst and lowest budget)"
   ]
  },
  {
   "cell_type": "code",
   "execution_count": 13,
   "metadata": {},
   "outputs": [
    {
     "data": {
      "text/html": [
       "<div>\n",
       "<style scoped>\n",
       "    .dataframe tbody tr th:only-of-type {\n",
       "        vertical-align: middle;\n",
       "    }\n",
       "\n",
       "    .dataframe tbody tr th {\n",
       "        vertical-align: top;\n",
       "    }\n",
       "\n",
       "    .dataframe thead th {\n",
       "        text-align: right;\n",
       "    }\n",
       "</style>\n",
       "<table border=\"1\" class=\"dataframe\">\n",
       "  <thead>\n",
       "    <tr style=\"text-align: right;\">\n",
       "      <th></th>\n",
       "      <th>2244</th>\n",
       "      <th>2618</th>\n",
       "    </tr>\n",
       "  </thead>\n",
       "  <tbody>\n",
       "    <tr>\n",
       "      <td>budget</td>\n",
       "      <td>425000000</td>\n",
       "      <td>1</td>\n",
       "    </tr>\n",
       "    <tr>\n",
       "      <td>revenue</td>\n",
       "      <td>11087569</td>\n",
       "      <td>100</td>\n",
       "    </tr>\n",
       "    <tr>\n",
       "      <td>original_title</td>\n",
       "      <td>The Warrior's Way</td>\n",
       "      <td>Lost &amp; Found</td>\n",
       "    </tr>\n",
       "    <tr>\n",
       "      <td>cast</td>\n",
       "      <td>Kate Bosworth|Jang Dong-gun|Geoffrey Rush|Dann...</td>\n",
       "      <td>David Spade|Sophie Marceau|Ever Carradine|Step...</td>\n",
       "    </tr>\n",
       "    <tr>\n",
       "      <td>director</td>\n",
       "      <td>Sngmoo Lee</td>\n",
       "      <td>Jeff Pollack</td>\n",
       "    </tr>\n",
       "    <tr>\n",
       "      <td>tagline</td>\n",
       "      <td>Assassin. Hero. Legend.</td>\n",
       "      <td>A comedy about a guy who would do anything to ...</td>\n",
       "    </tr>\n",
       "    <tr>\n",
       "      <td>overview</td>\n",
       "      <td>An Asian assassin (Dong-gun Jang) is forced to...</td>\n",
       "      <td>A comedy about finding your true love at any p...</td>\n",
       "    </tr>\n",
       "    <tr>\n",
       "      <td>runtime</td>\n",
       "      <td>100</td>\n",
       "      <td>95</td>\n",
       "    </tr>\n",
       "    <tr>\n",
       "      <td>genres</td>\n",
       "      <td>Adventure|Fantasy|Action|Western|Thriller</td>\n",
       "      <td>Comedy|Romance</td>\n",
       "    </tr>\n",
       "    <tr>\n",
       "      <td>release_date</td>\n",
       "      <td>2010-12-02 00:00:00</td>\n",
       "      <td>1999-04-23 00:00:00</td>\n",
       "    </tr>\n",
       "    <tr>\n",
       "      <td>release_year</td>\n",
       "      <td>2010</td>\n",
       "      <td>1999</td>\n",
       "    </tr>\n",
       "  </tbody>\n",
       "</table>\n",
       "</div>"
      ],
      "text/plain": [
       "                                                             2244  \\\n",
       "budget                                                  425000000   \n",
       "revenue                                                  11087569   \n",
       "original_title                                  The Warrior's Way   \n",
       "cast            Kate Bosworth|Jang Dong-gun|Geoffrey Rush|Dann...   \n",
       "director                                               Sngmoo Lee   \n",
       "tagline                                   Assassin. Hero. Legend.   \n",
       "overview        An Asian assassin (Dong-gun Jang) is forced to...   \n",
       "runtime                                                       100   \n",
       "genres                  Adventure|Fantasy|Action|Western|Thriller   \n",
       "release_date                                  2010-12-02 00:00:00   \n",
       "release_year                                                 2010   \n",
       "\n",
       "                                                             2618  \n",
       "budget                                                          1  \n",
       "revenue                                                       100  \n",
       "original_title                                       Lost & Found  \n",
       "cast            David Spade|Sophie Marceau|Ever Carradine|Step...  \n",
       "director                                             Jeff Pollack  \n",
       "tagline         A comedy about a guy who would do anything to ...  \n",
       "overview        A comedy about finding your true love at any p...  \n",
       "runtime                                                        95  \n",
       "genres                                             Comedy|Romance  \n",
       "release_date                                  1999-04-23 00:00:00  \n",
       "release_year                                                 1999  "
      ]
     },
     "execution_count": 13,
     "metadata": {},
     "output_type": "execute_result"
    }
   ],
   "source": [
    "calc('budget')"
   ]
  },
  {
   "cell_type": "code",
   "execution_count": 14,
   "metadata": {},
   "outputs": [
    {
     "data": {
      "image/png": "[encoded data removed]",
      "text/plain": [
       "<Figure size 1440x720 with 1 Axes>"
      ]
     },
     "metadata": {
      "needs_background": "light"
     },
     "output_type": "display_data"
    }
   ],
   "source": [
    "rcount=tmdb.groupby('release_year')['budget'].sum()\n",
    "plt.figure(figsize=(20,10))\n",
    "rcount.plot(kind='bar',color='#DC6046')\n",
    "plt.ylabel('Budget in b $',fontsize=(20))\n",
    "plt.xlabel('Release Year',fontsize=(20))\n",
    "plt.legend(fontsize=(20))\n",
    "plt.title('Budget Growth over the years',fontsize=(30));"
   ]
  },
  {
   "cell_type": "markdown",
   "metadata": {},
   "source": [
    "This graph will show you the increse of budget over the years but this there is stability then dcrese since 2012 which good. \n",
    "so we have to see other features in dataset such as profit"
   ]
  },
  {
   "cell_type": "markdown",
   "metadata": {},
   "source": [
    "### Research Question 3 ( highst and lowest profit)\n"
   ]
  },
  {
   "cell_type": "markdown",
   "metadata": {},
   "source": [
    "<h4>We need to add profit to our dataset"
   ]
  },
  {
   "cell_type": "code",
   "execution_count": 15,
   "metadata": {},
   "outputs": [],
   "source": [
    "tmdb['profit']=tmdb['revenue']-tmdb['budget']"
   ]
  },
  {
   "cell_type": "code",
   "execution_count": 16,
   "metadata": {},
   "outputs": [
    {
     "data": {
      "text/html": [
       "<div>\n",
       "<style scoped>\n",
       "    .dataframe tbody tr th:only-of-type {\n",
       "        vertical-align: middle;\n",
       "    }\n",
       "\n",
       "    .dataframe tbody tr th {\n",
       "        vertical-align: top;\n",
       "    }\n",
       "\n",
       "    .dataframe thead th {\n",
       "        text-align: right;\n",
       "    }\n",
       "</style>\n",
       "<table border=\"1\" class=\"dataframe\">\n",
       "  <thead>\n",
       "    <tr style=\"text-align: right;\">\n",
       "      <th></th>\n",
       "      <th>1386</th>\n",
       "      <th>2244</th>\n",
       "    </tr>\n",
       "  </thead>\n",
       "  <tbody>\n",
       "    <tr>\n",
       "      <td>budget</td>\n",
       "      <td>237000000</td>\n",
       "      <td>425000000</td>\n",
       "    </tr>\n",
       "    <tr>\n",
       "      <td>revenue</td>\n",
       "      <td>2781505847</td>\n",
       "      <td>11087569</td>\n",
       "    </tr>\n",
       "    <tr>\n",
       "      <td>original_title</td>\n",
       "      <td>Avatar</td>\n",
       "      <td>The Warrior's Way</td>\n",
       "    </tr>\n",
       "    <tr>\n",
       "      <td>cast</td>\n",
       "      <td>Sam Worthington|Zoe Saldana|Sigourney Weaver|S...</td>\n",
       "      <td>Kate Bosworth|Jang Dong-gun|Geoffrey Rush|Dann...</td>\n",
       "    </tr>\n",
       "    <tr>\n",
       "      <td>director</td>\n",
       "      <td>James Cameron</td>\n",
       "      <td>Sngmoo Lee</td>\n",
       "    </tr>\n",
       "    <tr>\n",
       "      <td>tagline</td>\n",
       "      <td>Enter the World of Pandora.</td>\n",
       "      <td>Assassin. Hero. Legend.</td>\n",
       "    </tr>\n",
       "    <tr>\n",
       "      <td>overview</td>\n",
       "      <td>In the 22nd century, a paraplegic Marine is di...</td>\n",
       "      <td>An Asian assassin (Dong-gun Jang) is forced to...</td>\n",
       "    </tr>\n",
       "    <tr>\n",
       "      <td>runtime</td>\n",
       "      <td>162</td>\n",
       "      <td>100</td>\n",
       "    </tr>\n",
       "    <tr>\n",
       "      <td>genres</td>\n",
       "      <td>Action|Adventure|Fantasy|Science Fiction</td>\n",
       "      <td>Adventure|Fantasy|Action|Western|Thriller</td>\n",
       "    </tr>\n",
       "    <tr>\n",
       "      <td>release_date</td>\n",
       "      <td>2009-12-10 00:00:00</td>\n",
       "      <td>2010-12-02 00:00:00</td>\n",
       "    </tr>\n",
       "    <tr>\n",
       "      <td>release_year</td>\n",
       "      <td>2009</td>\n",
       "      <td>2010</td>\n",
       "    </tr>\n",
       "    <tr>\n",
       "      <td>profit</td>\n",
       "      <td>2544505847</td>\n",
       "      <td>-413912431</td>\n",
       "    </tr>\n",
       "  </tbody>\n",
       "</table>\n",
       "</div>"
      ],
      "text/plain": [
       "                                                             1386  \\\n",
       "budget                                                  237000000   \n",
       "revenue                                                2781505847   \n",
       "original_title                                             Avatar   \n",
       "cast            Sam Worthington|Zoe Saldana|Sigourney Weaver|S...   \n",
       "director                                            James Cameron   \n",
       "tagline                               Enter the World of Pandora.   \n",
       "overview        In the 22nd century, a paraplegic Marine is di...   \n",
       "runtime                                                       162   \n",
       "genres                   Action|Adventure|Fantasy|Science Fiction   \n",
       "release_date                                  2009-12-10 00:00:00   \n",
       "release_year                                                 2009   \n",
       "profit                                                 2544505847   \n",
       "\n",
       "                                                             2244  \n",
       "budget                                                  425000000  \n",
       "revenue                                                  11087569  \n",
       "original_title                                  The Warrior's Way  \n",
       "cast            Kate Bosworth|Jang Dong-gun|Geoffrey Rush|Dann...  \n",
       "director                                               Sngmoo Lee  \n",
       "tagline                                   Assassin. Hero. Legend.  \n",
       "overview        An Asian assassin (Dong-gun Jang) is forced to...  \n",
       "runtime                                                       100  \n",
       "genres                  Adventure|Fantasy|Action|Western|Thriller  \n",
       "release_date                                  2010-12-02 00:00:00  \n",
       "release_year                                                 2010  \n",
       "profit                                                 -413912431  "
      ]
     },
     "execution_count": 16,
     "metadata": {},
     "output_type": "execute_result"
    }
   ],
   "source": [
    "calc('profit')"
   ]
  },
  {
   "cell_type": "code",
   "execution_count": 17,
   "metadata": {},
   "outputs": [
    {
     "data": {
      "image/png": "[encoded data removed]",
      "text/plain": [
       "<Figure size 1440x720 with 1 Axes>"
      ]
     },
     "metadata": {
      "needs_background": "light"
     },
     "output_type": "display_data"
    }
   ],
   "source": [
    "rcount=tmdb.groupby('release_year')['profit'].sum()\n",
    "plt.figure(figsize=(20,10))\n",
    "rcount.plot(kind='bar',color='#AEE143')\n",
    "plt.ylabel('Profit in 10b $',fontsize=(20))\n",
    "plt.xlabel('Release Year',fontsize=(20))\n",
    "plt.legend(fontsize=(20))\n",
    "plt.title('Profit Growth over the years',fontsize=(30));\n"
   ]
  },
  {
   "cell_type": "markdown",
   "metadata": {},
   "source": [
    "Profit the most important factor in our analysis to see if file industry is profitable or not. but profit by it self can not show the empact of business growth by it self. we need to see the relationship between profit and cost. as well. as we going to explan in question 9"
   ]
  },
  {
   "cell_type": "markdown",
   "metadata": {},
   "source": [
    "### Research Question 4( longest and shortest runtime)"
   ]
  },
  {
   "cell_type": "code",
   "execution_count": 18,
   "metadata": {},
   "outputs": [
    {
     "data": {
      "text/html": [
       "<div>\n",
       "<style scoped>\n",
       "    .dataframe tbody tr th:only-of-type {\n",
       "        vertical-align: middle;\n",
       "    }\n",
       "\n",
       "    .dataframe tbody tr th {\n",
       "        vertical-align: top;\n",
       "    }\n",
       "\n",
       "    .dataframe thead th {\n",
       "        text-align: right;\n",
       "    }\n",
       "</style>\n",
       "<table border=\"1\" class=\"dataframe\">\n",
       "  <thead>\n",
       "    <tr style=\"text-align: right;\">\n",
       "      <th></th>\n",
       "      <th>2107</th>\n",
       "      <th>8005</th>\n",
       "    </tr>\n",
       "  </thead>\n",
       "  <tbody>\n",
       "    <tr>\n",
       "      <td>budget</td>\n",
       "      <td>18000000</td>\n",
       "      <td>3000000</td>\n",
       "    </tr>\n",
       "    <tr>\n",
       "      <td>revenue</td>\n",
       "      <td>871279</td>\n",
       "      <td>21000000</td>\n",
       "    </tr>\n",
       "    <tr>\n",
       "      <td>original_title</td>\n",
       "      <td>Carlos</td>\n",
       "      <td>Mickey's Christmas Carol</td>\n",
       "    </tr>\n",
       "    <tr>\n",
       "      <td>cast</td>\n",
       "      <td>Edgar RamÃ­rez|Alexander Scheer|Fadi Abi Samra...</td>\n",
       "      <td>Alan Young|Wayne Allwine|Clarence Nash|Hal Smi...</td>\n",
       "    </tr>\n",
       "    <tr>\n",
       "      <td>director</td>\n",
       "      <td>Olivier Assayas</td>\n",
       "      <td>Burny Mattinson</td>\n",
       "    </tr>\n",
       "    <tr>\n",
       "      <td>tagline</td>\n",
       "      <td>The man who hijacked the world</td>\n",
       "      <td>He's back! Mickey Mouse - in his first new mot...</td>\n",
       "    </tr>\n",
       "    <tr>\n",
       "      <td>overview</td>\n",
       "      <td>The story of Venezuelan revolutionary, Ilich R...</td>\n",
       "      <td>It is an adaptation of the Charles Dickens cla...</td>\n",
       "    </tr>\n",
       "    <tr>\n",
       "      <td>runtime</td>\n",
       "      <td>338</td>\n",
       "      <td>26</td>\n",
       "    </tr>\n",
       "    <tr>\n",
       "      <td>genres</td>\n",
       "      <td>Crime|Drama|Thriller|History</td>\n",
       "      <td>Family|Animation</td>\n",
       "    </tr>\n",
       "    <tr>\n",
       "      <td>release_date</td>\n",
       "      <td>2010-05-19 00:00:00</td>\n",
       "      <td>1983-10-19 00:00:00</td>\n",
       "    </tr>\n",
       "    <tr>\n",
       "      <td>release_year</td>\n",
       "      <td>2010</td>\n",
       "      <td>1983</td>\n",
       "    </tr>\n",
       "    <tr>\n",
       "      <td>profit</td>\n",
       "      <td>-17128721</td>\n",
       "      <td>18000000</td>\n",
       "    </tr>\n",
       "  </tbody>\n",
       "</table>\n",
       "</div>"
      ],
      "text/plain": [
       "                                                             2107  \\\n",
       "budget                                                   18000000   \n",
       "revenue                                                    871279   \n",
       "original_title                                             Carlos   \n",
       "cast            Edgar RamÃ­rez|Alexander Scheer|Fadi Abi Samra...   \n",
       "director                                          Olivier Assayas   \n",
       "tagline                            The man who hijacked the world   \n",
       "overview        The story of Venezuelan revolutionary, Ilich R...   \n",
       "runtime                                                       338   \n",
       "genres                               Crime|Drama|Thriller|History   \n",
       "release_date                                  2010-05-19 00:00:00   \n",
       "release_year                                                 2010   \n",
       "profit                                                  -17128721   \n",
       "\n",
       "                                                             8005  \n",
       "budget                                                    3000000  \n",
       "revenue                                                  21000000  \n",
       "original_title                           Mickey's Christmas Carol  \n",
       "cast            Alan Young|Wayne Allwine|Clarence Nash|Hal Smi...  \n",
       "director                                          Burny Mattinson  \n",
       "tagline         He's back! Mickey Mouse - in his first new mot...  \n",
       "overview        It is an adaptation of the Charles Dickens cla...  \n",
       "runtime                                                        26  \n",
       "genres                                           Family|Animation  \n",
       "release_date                                  1983-10-19 00:00:00  \n",
       "release_year                                                 1983  \n",
       "profit                                                   18000000  "
      ]
     },
     "execution_count": 18,
     "metadata": {},
     "output_type": "execute_result"
    }
   ],
   "source": [
    "calc('runtime')"
   ]
  },
  {
   "cell_type": "code",
   "execution_count": 19,
   "metadata": {},
   "outputs": [
    {
     "data": {
      "image/png": "[encoded data removed]",
      "text/plain": [
       "<Figure size 432x288 with 1 Axes>"
      ]
     },
     "metadata": {
      "needs_background": "light"
     },
     "output_type": "display_data"
    }
   ],
   "source": [
    "plt.figure()\n",
    "sns.swarmplot(tmdb['runtime'])\n",
    "plt.ylabel('Movies',fontsize=(15))\n",
    "plt.xlabel('Runtime',fontsize=(15))\n",
    "\n",
    "plt.title('Runtime for Movies ',fontsize=(15))\n",
    "\n",
    "plt.show()"
   ]
  },
  {
   "cell_type": "markdown",
   "metadata": {},
   "source": [
    "This Swarmplot will show you the spred of movies with runtime "
   ]
  },
  {
   "cell_type": "code",
   "execution_count": 20,
   "metadata": {},
   "outputs": [
    {
     "data": {
      "text/plain": [
       "count    3572.000000\n",
       "mean      109.122900\n",
       "std        19.686816\n",
       "min        26.000000\n",
       "25%        96.000000\n",
       "50%       106.000000\n",
       "75%       119.000000\n",
       "max       338.000000\n",
       "Name: runtime, dtype: float64"
      ]
     },
     "execution_count": 20,
     "metadata": {},
     "output_type": "execute_result"
    }
   ],
   "source": [
    "tmdb['runtime'].describe()\n"
   ]
  },
  {
   "cell_type": "markdown",
   "metadata": {},
   "source": [
    "### Research Question 5 ( What is an average runtime)"
   ]
  },
  {
   "cell_type": "code",
   "execution_count": 22,
   "metadata": {},
   "outputs": [
    {
     "name": "stdout",
     "output_type": "stream",
     "text": [
      "The average of runtime is 109.12290033594626\n"
     ]
    }
   ],
   "source": [
    "x=tmdb['runtime'].mean()\n",
    "print('The average of runtime is {}'.format(x))"
   ]
  },
  {
   "cell_type": "markdown",
   "metadata": {},
   "source": [
    "### Research Question 6 ( What is an average Profit )"
   ]
  },
  {
   "cell_type": "code",
   "execution_count": 23,
   "metadata": {},
   "outputs": [
    {
     "name": "stdout",
     "output_type": "stream",
     "text": [
      "The average of runtime is 75118992.06159015\n"
     ]
    }
   ],
   "source": [
    "x=tmdb['profit'].mean()\n",
    "print('The average of runtime is {}'.format(x))"
   ]
  },
  {
   "cell_type": "markdown",
   "metadata": {},
   "source": [
    "### Research Question 7 ( What is an average Revenue)"
   ]
  },
  {
   "cell_type": "code",
   "execution_count": 24,
   "metadata": {},
   "outputs": [
    {
     "name": "stdout",
     "output_type": "stream",
     "text": [
      "The average of runtime is 113833739.16573349\n"
     ]
    }
   ],
   "source": [
    "x=tmdb['revenue'].mean()\n",
    "print('The average of runtime is {}'.format(x))"
   ]
  },
  {
   "cell_type": "markdown",
   "metadata": {},
   "source": [
    "### Research Question 8 ( What is an average Budget)"
   ]
  },
  {
   "cell_type": "code",
   "execution_count": 25,
   "metadata": {},
   "outputs": [
    {
     "name": "stdout",
     "output_type": "stream",
     "text": [
      "The average of runtime is 38714747.10414334\n"
     ]
    }
   ],
   "source": [
    "x=tmdb['budget'].mean()\n",
    "print('The average of runtime is {}'.format(x))"
   ]
  },
  {
   "cell_type": "markdown",
   "metadata": {},
   "source": [
    "### Research Question 9 ( relationship between profit and budget over the years(ROI))\n"
   ]
  },
  {
   "cell_type": "code",
   "execution_count": 26,
   "metadata": {},
   "outputs": [
    {
     "data": {
      "image/png": "[encoded data removed]",
      "text/plain": [
       "<Figure size 1080x720 with 1 Axes>"
      ]
     },
     "metadata": {
      "needs_background": "light"
     },
     "output_type": "display_data"
    }
   ],
   "source": [
    "# Draw relationship\n",
    "\n",
    "plt.figure(figsize=(15,10))\n",
    "rev_data=tmdb.groupby('release_year')['revenue'].sum()\n",
    "budj_data=tmdb.groupby('release_year')['budget'].sum()\n",
    "prof_data=tmdb.groupby('release_year')['profit'].sum()\n",
    "#plt.plot(rev_data,label='Revenue')\n",
    "plt.plot(budj_data,label='budget')\n",
    "plt.plot(prof_data,label='profit')\n",
    "\n",
    "plt.legend()\n",
    "plt.title('Return of Investment (ROI)')\n",
    "plt.xlabel('Realese Year')\n",
    "plt.ylabel('Profit earned over budget per Years');\n",
    "#plt.plot(tmdb['budget'],tmdb['release_date'],label='budget')\n",
    "#plt.plot(tmdb['profit'],tmdb['release_date'],label='budget')"
   ]
  },
  {
   "cell_type": "markdown",
   "metadata": {},
   "source": [
    "### From last figure we clearly see the return of investment gap was increase over the years.\n",
    "#### Findings:\n",
    "2. The increase of profit or busdget by itself does not indicate proftability.\n",
    "     * It might be becouse of inflation rate over the years\n",
    "     * Currency Exchange data is not provided in dataset\n",
    "1. The __gap__ between budget and profit was increased Significantly over the years that is good indicator that business is proftable and that becouse of many factors such as:\n",
    "     * Cost Management (ex: Use technology to save money)\n",
    "     * Revenue management(pricing strategy,Ancillary Rev )\n",
    "     * Better Marketing Management"
   ]
  },
  {
   "cell_type": "markdown",
   "metadata": {},
   "source": [
    "### Research Question 10 ( Top genres over the years)"
   ]
  },
  {
   "cell_type": "code",
   "execution_count": 27,
   "metadata": {},
   "outputs": [
    {
     "name": "stdout",
     "output_type": "stream",
     "text": [
      "<class 'pandas.core.frame.DataFrame'>\n",
      "Int64Index: 1987 entries, 0 to 10762\n",
      "Data columns (total 12 columns):\n",
      "budget            1987 non-null int64\n",
      "revenue           1987 non-null int64\n",
      "original_title    1987 non-null object\n",
      "cast              1987 non-null object\n",
      "director          1987 non-null object\n",
      "tagline           1987 non-null object\n",
      "overview          1987 non-null object\n",
      "runtime           1987 non-null int64\n",
      "genres            1987 non-null object\n",
      "release_date      1987 non-null datetime64[ns]\n",
      "release_year      1987 non-null int64\n",
      "profit            1987 non-null int64\n",
      "dtypes: datetime64[ns](1), int64(5), object(6)\n",
      "memory usage: 201.8+ KB\n"
     ]
    }
   ],
   "source": [
    "#We need to consider removing any movies revenue less than 40,000,000 $\n",
    "clean_data=tmdb\n",
    "clean_data=tmdb[tmdb['revenue']>= 40000000]\n",
    "clean_data.info()"
   ]
  },
  {
   "cell_type": "code",
   "execution_count": 28,
   "metadata": {},
   "outputs": [
    {
     "data": {
      "text/plain": [
       "Drama              760\n",
       "Comedy             707\n",
       "Action             688\n",
       "Thriller           630\n",
       "Adventure          521\n",
       "Crime              328\n",
       "Romance            309\n",
       "Science Fiction    304\n",
       "Family             298\n",
       "Fantasy            265\n",
       "dtype: int64"
      ]
     },
     "execution_count": 28,
     "metadata": {},
     "output_type": "execute_result"
    }
   ],
   "source": [
    "#Most proftable Genra and Top actors as well funtcion\n",
    "\n",
    "def most(x):\n",
    "    data=clean_data[x].str.cat(sep='|')\n",
    "    data=pd.Series(data.split('|'))\n",
    "    count=data.value_counts(ascending=False)\n",
    "    \n",
    "    return count\n",
    "\n",
    "#recall the function for Genra\n",
    "mostgenras=most('genres').head(10)\n",
    "mostgenras\n"
   ]
  },
  {
   "cell_type": "code",
   "execution_count": 32,
   "metadata": {},
   "outputs": [
    {
     "data": {
      "image/png": "[encoded data removed]",
      "text/plain": [
       "<Figure size 720x720 with 1 Axes>"
      ]
     },
     "metadata": {},
     "output_type": "display_data"
    }
   ],
   "source": [
    "plt.figure(figsize=(10,10))\n",
    "genra_chart=mostgenras.plot.pie(fontsize=15)\n",
    "plt.title('Market Share by Genras',fontsize=20);\n"
   ]
  },
  {
   "cell_type": "markdown",
   "metadata": {},
   "source": [
    "This show you the marketshare for each genra"
   ]
  },
  {
   "cell_type": "code",
   "execution_count": 33,
   "metadata": {},
   "outputs": [
    {
     "data": {
      "image/png": "[encoded data removed]",
      "text/plain": [
       "<Figure size 1080x720 with 1 Axes>"
      ]
     },
     "metadata": {
      "needs_background": "light"
     },
     "output_type": "display_data"
    }
   ],
   "source": [
    "plt.figure(figsize=(15,10))\n",
    "genra_chart=mostgenras.plot.barh(fontsize=15,color='#8cd4eb')\n",
    "plt.gca().invert_yaxis()\n",
    "plt.title('Top Genras over the years',fontsize=(20));\n",
    "plt.xlabel('Number of Movies',fontsize=(15))\n",
    "plt.legend('Genras');"
   ]
  },
  {
   "cell_type": "markdown",
   "metadata": {},
   "source": [
    "#### This show you another way of the marketshare for each genra"
   ]
  },
  {
   "cell_type": "markdown",
   "metadata": {},
   "source": [
    "### Research Question 11 ( Top cast over the years)"
   ]
  },
  {
   "cell_type": "code",
   "execution_count": 34,
   "metadata": {},
   "outputs": [
    {
     "data": {
      "text/plain": [
       "Robert De Niro        33\n",
       "Bruce Willis          32\n",
       "Tom Cruise            31\n",
       "Brad Pitt             28\n",
       "Tom Hanks             28\n",
       "Samuel L. Jackson     28\n",
       "Sylvester Stallone    26\n",
       "Robin Williams        26\n",
       "Eddie Murphy          26\n",
       "Johnny Depp           25\n",
       "dtype: int64"
      ]
     },
     "execution_count": 34,
     "metadata": {},
     "output_type": "execute_result"
    }
   ],
   "source": [
    "mostcast=most('cast').head(10)\n",
    "mostcast"
   ]
  },
  {
   "cell_type": "code",
   "execution_count": 35,
   "metadata": {},
   "outputs": [
    {
     "data": {
      "image/png": "[encoded data removed]",
      "text/plain": [
       "<Figure size 1080x720 with 1 Axes>"
      ]
     },
     "metadata": {
      "needs_background": "light"
     },
     "output_type": "display_data"
    }
   ],
   "source": [
    "plt.figure(figsize=(15,10))\n",
    "cast_chart=mostcast.plot.barh(fontsize=15,color='#8cd4eb')\n",
    "plt.gca().invert_yaxis()\n",
    "plt.title('Most Successfull Actors',fontsize=(20));\n",
    "plt.xlabel('Number of Movies participation',fontsize=(15))\n",
    "plt.legend('Actors');\n"
   ]
  },
  {
   "cell_type": "markdown",
   "metadata": {},
   "source": [
    "#### This grapg is to show you visulization of the most successfull actors in dataset over the years."
   ]
  },
  {
   "cell_type": "markdown",
   "metadata": {},
   "source": [
    "<a id='conclusions'></a>\n",
    "## Conclusions\n",
    "\n"
   ]
  },
  {
   "attachments": {},
   "cell_type": "markdown",
   "metadata": {},
   "source": [
    "#### Findings:\n",
    "   1. Revenue could not ever be 0's so we need to remove it\n",
    "   2.  The most movies that generate revenue is 'Avatar' and lowest is 'Mallrats'\n",
    "   3.  The most movies that cost high budget is 'The Warrior's Way' and lowest is 'Lost & Found'\n",
    "   4.  The most movies that is profitable ! over the years is 'Avatar' and lowest is 'The Warrior's Way'\n",
    "   5. The longest runtime movies was 'Carlos' and shortest movies is 'Mickey's Christmas Carol'\n",
    "   6. Averages:\n",
    "      * Average runtime is: (109.12290033594626)\n",
    "      * verage profit is: (75,118,992.06)\n",
    "      * Average revenue is: (113,833,739.16)\n",
    "      * Average budget is: (38,714,747.10)\n",
    "   7. Top 5 Genres are:\n",
    "      * Drama\n",
    "      * Comedy\n",
    "      * Thriller\n",
    "      * Action\n",
    "      * Adventure\n",
    "   8. Top 5 most successful cast are:\n",
    "      * Robert De Niro\n",
    "      * Samuel L. Jackson\n",
    "      * Nicolas Cage\n",
    "      * Matt Damon\n",
    "      * Tom Hanks\n",
    "        \n",
    "#### Conclusion and Opinion :\n",
    "   1.\tThe Return of investment (ROI) in the last 15 years increased significantly as shown in the ROI graph.\n",
    "   2.\tAt the beginning of Movies industry, the business was struggled maybe that because of lack of technology and using costly materials to create scenes.\n",
    "   3.\tAround 2009 the cost become stable and start to decreased (Technology in film making become easier and cheaper)\n",
    "   4.\tIn genres section we exclude immature file maker to get better top genres by remove all movies with revenue less or equal to 40M $.\n",
    "\n",
    "#### Limitations:\n",
    "   1. In revenue and budget data I find some number which is imposable such as revenue 5 dollars .It would be better to understand some hint about these number to take decision should i delete it or leave it.\n",
    "   2. In case we exclude low revenue movie the genres will change and that will affect our descision which is where should i invest my money.\n",
    "   3. Currency exchange rate is not considered at this dataset regarding revenue and budget.\n",
    "   "
   ]
  }
 ],
 "metadata": {
  "kernelspec": {
   "display_name": "Python 3",
   "language": "python",
   "name": "python3"
  },
  "language_info": {
   "codemirror_mode": {
    "name": "ipython",
    "version": 3
   },
   "file_extension": ".py",
   "mimetype": "text/x-python",
   "name": "python",
   "nbconvert_exporter": "python",
   "pygments_lexer": "ipython3",
   "version": "3.7.3"
  }
 },
 "nbformat": 4,
 "nbformat_minor": 2
}
